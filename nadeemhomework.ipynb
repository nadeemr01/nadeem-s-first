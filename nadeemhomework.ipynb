{
  "nbformat": 4,
  "nbformat_minor": 0,
  "metadata": {
    "colab": {
      "provenance": [],
      "authorship_tag": "ABX9TyNkjV48WshgC6Bd8lkquNLr"
    },
    "kernelspec": {
      "name": "python3",
      "display_name": "Python 3"
    },
    "language_info": {
      "name": "python"
    }
  },
  "cells": [
    {
      "source": [
        "class MyDictWithStdHash:\n",
        "\n",
        "  __values: list\n",
        "  __keys: list\n",
        "\n",
        "  def __init__(self):\n",
        "    self.__values = []\n",
        "    self.__keys = []\n",
        "\n",
        "  def fnv1a_hash(self, key):\n",
        "    h = 0x811c9dc5\n",
        "    for byte in str(key).encode():\n",
        "        h ^= byte\n",
        "        h = (h * 0x01000193) % (2 ** 32)\n",
        "    return h\n",
        "\n",
        "  def __getitem__(self, key):\n",
        "    for i, my_key in enumerate(self.__keys):\n",
        "      if self.fnv1a_hash(my_key) == self.fnv1a_hash(key):\n",
        "        return self.__values[i]\n",
        "    raise KeyError(\"Key not found.\") # Raise KeyError for consistency\n",
        "\n",
        "  def __setitem__(self, key, value):\n",
        "    for i, my_key in enumerate(self.__keys):\n",
        "      if self.fnv1a_hash(my_key) == self.fnv1a_hash(key):\n",
        "        self.__values[i] = value\n",
        "        return\n",
        "    self.__keys.append(key)\n",
        "    self.__values.append(value)\n",
        "\n",
        "  def __len__(self):\n",
        "    return len(self.__values)\n",
        "\n",
        "  def __repr__(self):\n",
        "    s = \"{\"\n",
        "    for i, my_key in enumerate(self.__keys):\n",
        "      s += str(my_key) + \": \" + str(self.__values[i]) + \", \"\n",
        "    s += \"}\"\n",
        "    return s\n",
        "\n",
        "  # Added keys() method to return the keys\n",
        "  def keys(self):\n",
        "    return self.__keys\n",
        "\n",
        "  # Added get() method with default value handling\n",
        "  def get(self, key, default=None):\n",
        "      try:\n",
        "          return self.__getitem__(key)\n",
        "      except KeyError:\n",
        "          return default\n",
        "\n",
        "my_dict = MyDictWithStdHash()\n",
        "my_dict['apple'] = 1\n",
        "my_dict['banana'] = 2\n",
        "print(my_dict.get('apple'))\n",
        "print(my_dict.keys())\n",
        "print(my_dict['banana'])"
      ],
      "cell_type": "code",
      "metadata": {
        "colab": {
          "base_uri": "https://localhost:8080/"
        },
        "id": "myWe314DmXGj",
        "outputId": "1fb7a32b-9f6a-4c56-bed4-7a05133ca21e"
      },
      "execution_count": 10,
      "outputs": [
        {
          "output_type": "stream",
          "name": "stdout",
          "text": [
            "1\n",
            "['apple', 'banana']\n",
            "2\n"
          ]
        }
      ]
    }
  ]
}